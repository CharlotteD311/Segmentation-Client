{
 "cells": [
  {
   "cell_type": "code",
   "execution_count": 1,
   "id": "05cd78cd-79c4-4a60-a08f-2700a3dffe5b",
   "metadata": {},
   "outputs": [],
   "source": [
    "# Importation des bibliothèques pour l'analyse de données\n",
    "import pandas as pd\n",
    "import numpy as np\n",
    "from pandas.tseries.offsets import DateOffset\n",
    "\n",
    "# Importation des bibliothèques pour la visualisation de données\n",
    "import matplotlib.pyplot as plt\n",
    "\n",
    "# Importation des bibliothèques pour le contrat de maintenance\n",
    "from sklearn.preprocessing import MinMaxScaler\n",
    "from sklearn.cluster import KMeans\n",
    "from sklearn.metrics import adjusted_rand_score\n",
    "import matplotlib.pyplot as plt"
   ]
  },
  {
   "cell_type": "code",
   "execution_count": 2,
   "id": "0d1aa0b8-153e-49c6-9caf-eafc647eb7fe",
   "metadata": {},
   "outputs": [],
   "source": [
    "df_maintenance = pd.read_csv(\"df_analyse.csv\")"
   ]
  },
  {
   "cell_type": "code",
   "execution_count": 3,
   "id": "da681cdf-4028-4ccd-a90b-a91ec0645555",
   "metadata": {},
   "outputs": [
    {
     "data": {
      "text/html": [
       "<div>\n",
       "<style scoped>\n",
       "    .dataframe tbody tr th:only-of-type {\n",
       "        vertical-align: middle;\n",
       "    }\n",
       "\n",
       "    .dataframe tbody tr th {\n",
       "        vertical-align: top;\n",
       "    }\n",
       "\n",
       "    .dataframe thead th {\n",
       "        text-align: right;\n",
       "    }\n",
       "</style>\n",
       "<table border=\"1\" class=\"dataframe\">\n",
       "  <thead>\n",
       "    <tr style=\"text-align: right;\">\n",
       "      <th></th>\n",
       "      <th>order_purchase_timestamp</th>\n",
       "      <th>customer_unique_id</th>\n",
       "      <th>average_installments</th>\n",
       "      <th>average_review_score</th>\n",
       "      <th>recency</th>\n",
       "      <th>frequency</th>\n",
       "      <th>monetary</th>\n",
       "      <th>most_frequent_payment_type</th>\n",
       "      <th>most_frequent_category</th>\n",
       "    </tr>\n",
       "  </thead>\n",
       "  <tbody>\n",
       "    <tr>\n",
       "      <th>0</th>\n",
       "      <td>2016-10-03 16:56:50</td>\n",
       "      <td>2f64e403852e6893ae37485d5fcacdaf</td>\n",
       "      <td>1.0</td>\n",
       "      <td>4.0</td>\n",
       "      <td>699</td>\n",
       "      <td>1</td>\n",
       "      <td>39.09</td>\n",
       "      <td>boleto</td>\n",
       "      <td>sports_leisure</td>\n",
       "    </tr>\n",
       "    <tr>\n",
       "      <th>1</th>\n",
       "      <td>2016-10-03 21:13:36</td>\n",
       "      <td>61db744d2f835035a5625b59350c6b63</td>\n",
       "      <td>1.0</td>\n",
       "      <td>3.0</td>\n",
       "      <td>699</td>\n",
       "      <td>1</td>\n",
       "      <td>53.73</td>\n",
       "      <td>boleto</td>\n",
       "      <td>sports_leisure</td>\n",
       "    </tr>\n",
       "    <tr>\n",
       "      <th>2</th>\n",
       "      <td>2016-10-03 22:06:03</td>\n",
       "      <td>8d3a54507421dbd2ce0a1d58046826e0</td>\n",
       "      <td>6.0</td>\n",
       "      <td>1.0</td>\n",
       "      <td>699</td>\n",
       "      <td>1</td>\n",
       "      <td>133.46</td>\n",
       "      <td>credit_card</td>\n",
       "      <td>furniture_decor</td>\n",
       "    </tr>\n",
       "    <tr>\n",
       "      <th>3</th>\n",
       "      <td>2016-10-03 22:31:31</td>\n",
       "      <td>87776adb449c551e74c13fc34f036105</td>\n",
       "      <td>4.0</td>\n",
       "      <td>5.0</td>\n",
       "      <td>699</td>\n",
       "      <td>1</td>\n",
       "      <td>40.95</td>\n",
       "      <td>credit_card</td>\n",
       "      <td>fashion_shoes</td>\n",
       "    </tr>\n",
       "    <tr>\n",
       "      <th>4</th>\n",
       "      <td>2016-10-03 22:44:10</td>\n",
       "      <td>7390ed59fa1febbfda31a80b4318c8cb</td>\n",
       "      <td>2.0</td>\n",
       "      <td>5.0</td>\n",
       "      <td>699</td>\n",
       "      <td>1</td>\n",
       "      <td>154.57</td>\n",
       "      <td>credit_card</td>\n",
       "      <td>toys</td>\n",
       "    </tr>\n",
       "    <tr>\n",
       "      <th>...</th>\n",
       "      <td>...</td>\n",
       "      <td>...</td>\n",
       "      <td>...</td>\n",
       "      <td>...</td>\n",
       "      <td>...</td>\n",
       "      <td>...</td>\n",
       "      <td>...</td>\n",
       "      <td>...</td>\n",
       "      <td>...</td>\n",
       "    </tr>\n",
       "    <tr>\n",
       "      <th>92749</th>\n",
       "      <td>2018-08-29 12:25:59</td>\n",
       "      <td>7a22d14aa3c3599238509ddca4b93b01</td>\n",
       "      <td>7.0</td>\n",
       "      <td>1.0</td>\n",
       "      <td>4</td>\n",
       "      <td>1</td>\n",
       "      <td>73.10</td>\n",
       "      <td>credit_card</td>\n",
       "      <td>toys</td>\n",
       "    </tr>\n",
       "    <tr>\n",
       "      <th>92750</th>\n",
       "      <td>2018-08-29 14:18:23</td>\n",
       "      <td>5c58de6fb80e93396e2f35642666b693</td>\n",
       "      <td>8.0</td>\n",
       "      <td>5.0</td>\n",
       "      <td>4</td>\n",
       "      <td>1</td>\n",
       "      <td>510.96</td>\n",
       "      <td>credit_card</td>\n",
       "      <td>kitchen_dining_laundry_garden_furniture</td>\n",
       "    </tr>\n",
       "    <tr>\n",
       "      <th>92751</th>\n",
       "      <td>2018-08-29 14:18:28</td>\n",
       "      <td>7febafa06d9d8f232a900a2937f04338</td>\n",
       "      <td>1.0</td>\n",
       "      <td>5.0</td>\n",
       "      <td>4</td>\n",
       "      <td>1</td>\n",
       "      <td>61.29</td>\n",
       "      <td>voucher</td>\n",
       "      <td>health_beauty</td>\n",
       "    </tr>\n",
       "    <tr>\n",
       "      <th>92752</th>\n",
       "      <td>2018-08-29 14:52:00</td>\n",
       "      <td>b701bebbdf478f5500348f03aff62121</td>\n",
       "      <td>1.0</td>\n",
       "      <td>3.0</td>\n",
       "      <td>4</td>\n",
       "      <td>1</td>\n",
       "      <td>33.23</td>\n",
       "      <td>credit_card</td>\n",
       "      <td>party_supplies</td>\n",
       "    </tr>\n",
       "    <tr>\n",
       "      <th>92753</th>\n",
       "      <td>2018-08-29 15:00:37</td>\n",
       "      <td>24ac2b4327e25baf39f2119e4228976a</td>\n",
       "      <td>1.0</td>\n",
       "      <td>5.0</td>\n",
       "      <td>4</td>\n",
       "      <td>1</td>\n",
       "      <td>93.75</td>\n",
       "      <td>credit_card</td>\n",
       "      <td>computers_accessories</td>\n",
       "    </tr>\n",
       "  </tbody>\n",
       "</table>\n",
       "<p>92754 rows × 9 columns</p>\n",
       "</div>"
      ],
      "text/plain": [
       "      order_purchase_timestamp                customer_unique_id  \\\n",
       "0          2016-10-03 16:56:50  2f64e403852e6893ae37485d5fcacdaf   \n",
       "1          2016-10-03 21:13:36  61db744d2f835035a5625b59350c6b63   \n",
       "2          2016-10-03 22:06:03  8d3a54507421dbd2ce0a1d58046826e0   \n",
       "3          2016-10-03 22:31:31  87776adb449c551e74c13fc34f036105   \n",
       "4          2016-10-03 22:44:10  7390ed59fa1febbfda31a80b4318c8cb   \n",
       "...                        ...                               ...   \n",
       "92749      2018-08-29 12:25:59  7a22d14aa3c3599238509ddca4b93b01   \n",
       "92750      2018-08-29 14:18:23  5c58de6fb80e93396e2f35642666b693   \n",
       "92751      2018-08-29 14:18:28  7febafa06d9d8f232a900a2937f04338   \n",
       "92752      2018-08-29 14:52:00  b701bebbdf478f5500348f03aff62121   \n",
       "92753      2018-08-29 15:00:37  24ac2b4327e25baf39f2119e4228976a   \n",
       "\n",
       "       average_installments  average_review_score  recency  frequency  \\\n",
       "0                       1.0                   4.0      699          1   \n",
       "1                       1.0                   3.0      699          1   \n",
       "2                       6.0                   1.0      699          1   \n",
       "3                       4.0                   5.0      699          1   \n",
       "4                       2.0                   5.0      699          1   \n",
       "...                     ...                   ...      ...        ...   \n",
       "92749                   7.0                   1.0        4          1   \n",
       "92750                   8.0                   5.0        4          1   \n",
       "92751                   1.0                   5.0        4          1   \n",
       "92752                   1.0                   3.0        4          1   \n",
       "92753                   1.0                   5.0        4          1   \n",
       "\n",
       "       monetary most_frequent_payment_type  \\\n",
       "0         39.09                     boleto   \n",
       "1         53.73                     boleto   \n",
       "2        133.46                credit_card   \n",
       "3         40.95                credit_card   \n",
       "4        154.57                credit_card   \n",
       "...         ...                        ...   \n",
       "92749     73.10                credit_card   \n",
       "92750    510.96                credit_card   \n",
       "92751     61.29                    voucher   \n",
       "92752     33.23                credit_card   \n",
       "92753     93.75                credit_card   \n",
       "\n",
       "                        most_frequent_category  \n",
       "0                               sports_leisure  \n",
       "1                               sports_leisure  \n",
       "2                              furniture_decor  \n",
       "3                                fashion_shoes  \n",
       "4                                         toys  \n",
       "...                                        ...  \n",
       "92749                                     toys  \n",
       "92750  kitchen_dining_laundry_garden_furniture  \n",
       "92751                            health_beauty  \n",
       "92752                           party_supplies  \n",
       "92753                    computers_accessories  \n",
       "\n",
       "[92754 rows x 9 columns]"
      ]
     },
     "execution_count": 3,
     "metadata": {},
     "output_type": "execute_result"
    }
   ],
   "source": [
    "df_maintenance"
   ]
  },
  {
   "cell_type": "code",
   "execution_count": 4,
   "id": "5775426b-0b8a-48d6-a5db-889bdeaba822",
   "metadata": {},
   "outputs": [],
   "source": [
    "df_maintenance['order_purchase_timestamp'] = pd.to_datetime(df_maintenance['order_purchase_timestamp'])\n",
    "df_maintenance = df_maintenance.drop(['customer_unique_id','most_frequent_payment_type', 'most_frequent_category', 'average_installments'], axis=1)"
   ]
  },
  {
   "cell_type": "code",
   "execution_count": 5,
   "id": "8558db2a-568b-4457-bf78-f54a8094fe04",
   "metadata": {},
   "outputs": [],
   "source": [
    "min_order_date = df_maintenance[\"order_purchase_timestamp\"].min()"
   ]
  },
  {
   "cell_type": "code",
   "execution_count": 6,
   "id": "29e0a6fd-a4e0-49d1-828b-fe78f0460599",
   "metadata": {},
   "outputs": [
    {
     "name": "stdout",
     "output_type": "stream",
     "text": [
      "Date de la première commande: 2016-10-03 16:56:50\n",
      "Date de la dernière commande: 2018-08-29 15:00:37\n"
     ]
    }
   ],
   "source": [
    "print(\"Date de la première commande:\", min_order_date)\n",
    "print(\"Date de la dernière commande:\", df_maintenance[\"order_purchase_timestamp\"].max())"
   ]
  },
  {
   "cell_type": "code",
   "execution_count": 7,
   "id": "1abda492-c3db-40df-96d0-0720eead8df7",
   "metadata": {},
   "outputs": [],
   "source": [
    "# Filtrage de df_analyse avec les features nécessaires\n",
    "\n",
    "selected_variables = [\"recency\", \"frequency\", \"monetary\", \"average_review_score\"]\n",
    "df_maintenance_selected = df_maintenance[selected_variables]"
   ]
  },
  {
   "cell_type": "code",
   "execution_count": 8,
   "id": "1db49f48-1ae9-4db8-b7f8-0b81925610e6",
   "metadata": {},
   "outputs": [],
   "source": [
    "# Filtrage des données pour la période de base\n",
    "\n",
    "base_period_mask = (\n",
    "    (df_maintenance['order_purchase_timestamp'] >= '2017-01-01') &\n",
    "    (df_maintenance['order_purchase_timestamp'] <= '2017-12-31')\n",
    ")\n",
    "\n",
    "df_base_period = df_maintenance.loc[base_period_mask]"
   ]
  },
  {
   "cell_type": "code",
   "execution_count": 9,
   "id": "ad401b98-baa3-4119-b35b-f90294ad5c56",
   "metadata": {},
   "outputs": [],
   "source": [
    "def prepare_data_for_model(df):\n",
    "    \"\"\"Prépare les données pour le modèle.\"\"\"\n",
    "    df_copy = df.copy()\n",
    "    \n",
    "    df_copy['recency'] = np.log1p(df_copy['recency'])\n",
    "    df_copy['frequency'] = np.log1p(df_copy['frequency'])\n",
    "    df_copy['monetary'] = np.log1p(df_copy['monetary'])\n",
    "    \n",
    "    features_to_scale = ['recency', 'frequency', 'monetary', 'average_review_score']\n",
    "    scaler = MinMaxScaler()\n",
    "    \n",
    "    df_scaled_array = scaler.fit_transform(df_copy[features_to_scale])\n",
    "    df_scaled = pd.DataFrame(df_scaled_array, columns=features_to_scale)\n",
    "    return df_scaled, scaler"
   ]
  },
  {
   "cell_type": "code",
   "execution_count": 10,
   "id": "1ed70432-3384-4ede-a10a-3d261a2ba7f8",
   "metadata": {},
   "outputs": [],
   "source": [
    "def prepare_data_for_model_bis(df, scaler_0):\n",
    "    \"\"\"Prépare les nouvelles données pour le modèle en utilisant un scaler existant.\"\"\"\n",
    "    df_copy = df.copy()\n",
    "    \n",
    "    df_copy['recency'] = np.log1p(df_copy['recency'])\n",
    "    df_copy['frequency'] = np.log1p(df_copy['frequency'])\n",
    "    df_copy['monetary'] = np.log1p(df_copy['monetary'])\n",
    "    \n",
    "    # Utilisation du scaler existant pour transformer les nouvelles données\n",
    "    df_scaled_array = scaler_0.transform(df_copy[features_to_scale])\n",
    "    df_scaled = pd.DataFrame(df_scaled_array, columns=features_to_scale)\n",
    "    return df_scaled"
   ]
  },
  {
   "cell_type": "code",
   "execution_count": 11,
   "id": "069a9967-a1bd-4532-84f6-7017322928a1",
   "metadata": {},
   "outputs": [],
   "source": [
    "# Préparer les données de la période de base pour le modèle\n",
    "\n",
    "prepared_base_data, scaler0 = prepare_data_for_model(df_base_period[selected_variables])"
   ]
  },
  {
   "cell_type": "code",
   "execution_count": 12,
   "id": "b754221b-08aa-4f4b-bde3-63b23c670bfb",
   "metadata": {},
   "outputs": [
    {
     "data": {
      "text/html": [
       "<style>#sk-container-id-1 {color: black;}#sk-container-id-1 pre{padding: 0;}#sk-container-id-1 div.sk-toggleable {background-color: white;}#sk-container-id-1 label.sk-toggleable__label {cursor: pointer;display: block;width: 100%;margin-bottom: 0;padding: 0.3em;box-sizing: border-box;text-align: center;}#sk-container-id-1 label.sk-toggleable__label-arrow:before {content: \"▸\";float: left;margin-right: 0.25em;color: #696969;}#sk-container-id-1 label.sk-toggleable__label-arrow:hover:before {color: black;}#sk-container-id-1 div.sk-estimator:hover label.sk-toggleable__label-arrow:before {color: black;}#sk-container-id-1 div.sk-toggleable__content {max-height: 0;max-width: 0;overflow: hidden;text-align: left;background-color: #f0f8ff;}#sk-container-id-1 div.sk-toggleable__content pre {margin: 0.2em;color: black;border-radius: 0.25em;background-color: #f0f8ff;}#sk-container-id-1 input.sk-toggleable__control:checked~div.sk-toggleable__content {max-height: 200px;max-width: 100%;overflow: auto;}#sk-container-id-1 input.sk-toggleable__control:checked~label.sk-toggleable__label-arrow:before {content: \"▾\";}#sk-container-id-1 div.sk-estimator input.sk-toggleable__control:checked~label.sk-toggleable__label {background-color: #d4ebff;}#sk-container-id-1 div.sk-label input.sk-toggleable__control:checked~label.sk-toggleable__label {background-color: #d4ebff;}#sk-container-id-1 input.sk-hidden--visually {border: 0;clip: rect(1px 1px 1px 1px);clip: rect(1px, 1px, 1px, 1px);height: 1px;margin: -1px;overflow: hidden;padding: 0;position: absolute;width: 1px;}#sk-container-id-1 div.sk-estimator {font-family: monospace;background-color: #f0f8ff;border: 1px dotted black;border-radius: 0.25em;box-sizing: border-box;margin-bottom: 0.5em;}#sk-container-id-1 div.sk-estimator:hover {background-color: #d4ebff;}#sk-container-id-1 div.sk-parallel-item::after {content: \"\";width: 100%;border-bottom: 1px solid gray;flex-grow: 1;}#sk-container-id-1 div.sk-label:hover label.sk-toggleable__label {background-color: #d4ebff;}#sk-container-id-1 div.sk-serial::before {content: \"\";position: absolute;border-left: 1px solid gray;box-sizing: border-box;top: 0;bottom: 0;left: 50%;z-index: 0;}#sk-container-id-1 div.sk-serial {display: flex;flex-direction: column;align-items: center;background-color: white;padding-right: 0.2em;padding-left: 0.2em;position: relative;}#sk-container-id-1 div.sk-item {position: relative;z-index: 1;}#sk-container-id-1 div.sk-parallel {display: flex;align-items: stretch;justify-content: center;background-color: white;position: relative;}#sk-container-id-1 div.sk-item::before, #sk-container-id-1 div.sk-parallel-item::before {content: \"\";position: absolute;border-left: 1px solid gray;box-sizing: border-box;top: 0;bottom: 0;left: 50%;z-index: -1;}#sk-container-id-1 div.sk-parallel-item {display: flex;flex-direction: column;z-index: 1;position: relative;background-color: white;}#sk-container-id-1 div.sk-parallel-item:first-child::after {align-self: flex-end;width: 50%;}#sk-container-id-1 div.sk-parallel-item:last-child::after {align-self: flex-start;width: 50%;}#sk-container-id-1 div.sk-parallel-item:only-child::after {width: 0;}#sk-container-id-1 div.sk-dashed-wrapped {border: 1px dashed gray;margin: 0 0.4em 0.5em 0.4em;box-sizing: border-box;padding-bottom: 0.4em;background-color: white;}#sk-container-id-1 div.sk-label label {font-family: monospace;font-weight: bold;display: inline-block;line-height: 1.2em;}#sk-container-id-1 div.sk-label-container {text-align: center;}#sk-container-id-1 div.sk-container {/* jupyter's `normalize.less` sets `[hidden] { display: none; }` but bootstrap.min.css set `[hidden] { display: none !important; }` so we also need the `!important` here to be able to override the default hidden behavior on the sphinx rendered scikit-learn.org. See: https://github.com/scikit-learn/scikit-learn/issues/21755 */display: inline-block !important;position: relative;}#sk-container-id-1 div.sk-text-repr-fallback {display: none;}</style><div id=\"sk-container-id-1\" class=\"sk-top-container\"><div class=\"sk-text-repr-fallback\"><pre>KMeans(n_clusters=4, n_init=10, random_state=42)</pre><b>In a Jupyter environment, please rerun this cell to show the HTML representation or trust the notebook. <br />On GitHub, the HTML representation is unable to render, please try loading this page with nbviewer.org.</b></div><div class=\"sk-container\" hidden><div class=\"sk-item\"><div class=\"sk-estimator sk-toggleable\"><input class=\"sk-toggleable__control sk-hidden--visually\" id=\"sk-estimator-id-1\" type=\"checkbox\" checked><label for=\"sk-estimator-id-1\" class=\"sk-toggleable__label sk-toggleable__label-arrow\">KMeans</label><div class=\"sk-toggleable__content\"><pre>KMeans(n_clusters=4, n_init=10, random_state=42)</pre></div></div></div></div></div>"
      ],
      "text/plain": [
       "KMeans(n_clusters=4, n_init=10, random_state=42)"
      ]
     },
     "execution_count": 12,
     "metadata": {},
     "output_type": "execute_result"
    }
   ],
   "source": [
    "# Entraîner le modèle de clustering initial (M0) sur la période de base\n",
    "\n",
    "model_0 = KMeans(n_clusters=4,n_init=10, random_state=42)\n",
    "model_0.fit(prepared_base_data)"
   ]
  },
  {
   "cell_type": "code",
   "execution_count": 13,
   "id": "592a95a6-241a-491c-b907-acf5a0aa9592",
   "metadata": {},
   "outputs": [
    {
     "name": "stdout",
     "output_type": "stream",
     "text": [
      "('2018-01-01', '2018-01-31')\n",
      "('2018-02-01', '2018-02-28')\n",
      "('2018-03-01', '2018-03-31')\n",
      "('2018-04-01', '2018-04-30')\n",
      "('2018-05-01', '2018-05-31')\n",
      "('2018-06-01', '2018-06-30')\n",
      "('2018-07-01', '2018-07-31')\n",
      "('2018-08-01', '2018-08-31')\n"
     ]
    }
   ],
   "source": [
    "# Liste de la nouvelle période\n",
    "\n",
    "start_date = pd.to_datetime('2018-01-01')\n",
    "end_date = pd.to_datetime('2018-08-29')\n",
    "\n",
    "new_periods = []\n",
    "\n",
    "current_date = start_date\n",
    "while current_date <= end_date:\n",
    "    period_start = current_date.strftime('%Y-%m-%d')\n",
    "    period_end = (current_date + pd.offsets.MonthEnd(0)).strftime('%Y-%m-%d')\n",
    "    new_periods.append((period_start, period_end))\n",
    "    current_date += pd.offsets.MonthBegin(1)\n",
    "\n",
    "for period in new_periods:\n",
    "    print(period)"
   ]
  },
  {
   "cell_type": "code",
   "execution_count": 14,
   "id": "bb629e7b-098f-4c80-9541-6cd69040afbd",
   "metadata": {},
   "outputs": [],
   "source": [
    "features_to_scale = ['recency', 'frequency', 'monetary', 'average_review_score']"
   ]
  },
  {
   "cell_type": "code",
   "execution_count": 15,
   "id": "e2e7eb4b-ba5a-459f-9def-978969e3ffb3",
   "metadata": {},
   "outputs": [
    {
     "name": "stdout",
     "output_type": "stream",
     "text": [
      "ARI score for the period 2018-01-01 to 2018-01-31: 1.0\n",
      "ARI score for the period 2018-02-01 to 2018-02-28: 1.0\n",
      "ARI score for the period 2018-03-01 to 2018-03-31: 1.0\n",
      "ARI score for the period 2018-04-01 to 2018-04-30: 0.9891284190055514\n",
      "ARI score for the period 2018-05-01 to 2018-05-31: 1.0\n",
      "ARI score for the period 2018-06-01 to 2018-06-30: 1.0\n",
      "ARI score for the period 2018-07-01 to 2018-07-31: 1.0\n",
      "ARI score for the period 2018-08-01 to 2018-08-31: 0.5361325599104396\n"
     ]
    }
   ],
   "source": [
    "# Analyse de chaque période et calcule des ARI Score\n",
    "\n",
    "ari_scores = []\n",
    "for start_date, end_date in new_periods:\n",
    "    new_period_mask = (\n",
    "        (df_maintenance['order_purchase_timestamp'] >= start_date) &\n",
    "        (df_maintenance['order_purchase_timestamp'] <= end_date)\n",
    "    )\n",
    "    new_period_data = df_maintenance.loc[new_period_mask]\n",
    "\n",
    "    prepared_new_data = prepare_data_for_model_bis(new_period_data[selected_variables], scaler0)\n",
    "    \n",
    "    predicted_clusters = model_0.predict(prepared_new_data)\n",
    "    \n",
    "    model_1 = KMeans(n_clusters=4, n_init=10, random_state=42)\n",
    "    model_1.fit(prepared_new_data)\n",
    "    \n",
    "    ari_score = adjusted_rand_score(predicted_clusters, model_1.labels_)\n",
    "    ari_scores.append(ari_score)\n",
    "    print(f\"ARI score for the period {start_date} to {end_date}: {ari_score}\")"
   ]
  },
  {
   "cell_type": "code",
   "execution_count": 16,
   "id": "82df34fc-e7f0-433f-b0cd-09d461a3768f",
   "metadata": {},
   "outputs": [
    {
     "data": {
      "image/png": "[encoded data removed]",
      "text/plain": [
       "<Figure size 640x480 with 1 Axes>"
      ]
     },
     "metadata": {},
     "output_type": "display_data"
    }
   ],
   "source": [
    "# Visualisation des score ARI sur la période (en mensuel)\n",
    "\n",
    "plt.plot(range(1, len(ari_scores) + 1), ari_scores, marker='o')\n",
    "plt.title('ARI Scores Over Time')\n",
    "plt.xlabel('Period Number')\n",
    "plt.ylabel('ARI Score')\n",
    "plt.xticks(ticks=range(1, len(ari_scores) + 1))\n",
    "plt.tight_layout()\n",
    "plt.show()"
   ]
  },
  {
   "cell_type": "markdown",
   "id": "5b1f3722-1e59-4bd4-b0b0-19fdf998ad26",
   "metadata": {},
   "source": [
    "**Conclusion :**  \n",
    "Les scores ARI élevés sur plusieurs périodes suggèrent que le modèle de segmentation actuel performait bien, avec une excellente correspondance entre les clusters prédits et les véritables structures de données.  \n",
    "\n",
    "Toutefois, la chute abrupte dans le score ARI pour la dernière période (au bout de 8 mois) indique une divergence entre les groupes prédits par le modèle et les groupes réels.  \n",
    "\n",
    "**Proposition de maintenance:**  \n",
    "\n",
    "Évaluation Trimestrielle : Analyse des scores ARI tous les trois mois pour détecter tout changement significatif dans la qualité du clustering.  \n",
    "\n",
    "Réévaluation Semestrielle : Réévaluation complète des modèles au bout de 6 mois, y compris la réentrainement potentiel avec de nouvelles données pour ajuster aux évolutions du marché.  \n",
    "\n",
    "Ajustements Annuels : Revue annuelle pour ajuster le modèle."
   ]
  }
 ],
 "metadata": {
  "kernelspec": {
   "display_name": "Python 3 (ipykernel)",
   "language": "python",
   "name": "python3"
  },
  "language_info": {
   "codemirror_mode": {
    "name": "ipython",
    "version": 3
   },
   "file_extension": ".py",
   "mimetype": "text/x-python",
   "name": "python",
   "nbconvert_exporter": "python",
   "pygments_lexer": "ipython3",
   "version": "3.11.4"
  }
 },
 "nbformat": 4,
 "nbformat_minor": 5
}
